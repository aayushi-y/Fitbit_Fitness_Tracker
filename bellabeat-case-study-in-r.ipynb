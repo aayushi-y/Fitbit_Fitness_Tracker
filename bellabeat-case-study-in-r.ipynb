{
 "cells": [
  {
   "cell_type": "markdown",
   "id": "2e08e3b0",
   "metadata": {
    "papermill": {
     "duration": 0.007922,
     "end_time": "2023-03-07T07:57:18.861259",
     "exception": false,
     "start_time": "2023-03-07T07:57:18.853337",
     "status": "completed"
    },
    "tags": []
   },
   "source": [
    "# BELLABEAT CASE STUDY IN R "
   ]
  },
  {
   "cell_type": "markdown",
   "id": "5b2df437",
   "metadata": {
    "papermill": {
     "duration": 0.006339,
     "end_time": "2023-03-07T07:57:18.874052",
     "exception": false,
     "start_time": "2023-03-07T07:57:18.867713",
     "status": "completed"
    },
    "tags": []
   },
   "source": [
    "Bellabeat is a successful small company, but they have the potential to become a larger player in the global smart device market. Urška Sršen, cofounder and Chief Creative Officer of Bellabeat, believes that analyzing smart\n",
    "device fitness data could help unlock new growth opportunities for the company.\n",
    "\n",
    "We have been asked to focus on one of Bellabeat’s products and analyze smart device data to gain insight into how consumers are using their smart devices. The insights discovered will then help guide marketing strategy for the company. \n"
   ]
  },
  {
   "cell_type": "markdown",
   "id": "13b7ea12",
   "metadata": {
    "papermill": {
     "duration": 0.006357,
     "end_time": "2023-03-07T07:57:18.886813",
     "exception": false,
     "start_time": "2023-03-07T07:57:18.880456",
     "status": "completed"
    },
    "tags": []
   },
   "source": [
    "## About the company \n",
    "\n",
    "Urška Sršen and Sando Mur founded Bellabeat, a high-tech company that manufactures health-focused smart products. Sršen used her background as an artist to develop beautifully designed technology that informs and inspires women around the world. Since it was founded in 2013, Bellabeat has grown rapidly and quickly positioned itself as a tech-driven wellness company for women.\n",
    "\n",
    "Sršen knows that an analysis of Bellabeat’s available consumer data would reveal more opportunities for growth. She has asked the marketing analytics team to focus on a Bellabeat product and analyze smart device usage data in order to gain insight into how people are already using their smart devices. Then, using this information, she would like high-level recommendations for how these trends can inform Bellabeat marketing strategy"
   ]
  },
  {
   "cell_type": "markdown",
   "id": "73584b4e",
   "metadata": {
    "papermill": {
     "duration": 0.006387,
     "end_time": "2023-03-07T07:57:18.899574",
     "exception": false,
     "start_time": "2023-03-07T07:57:18.893187",
     "status": "completed"
    },
    "tags": []
   },
   "source": [
    "### Questions for Analysis? \n",
    "\n",
    "1. **What are some trends in smart device usage?**\n",
    "2. **How could these trends apply to Bellabeat customers?**\n",
    "3. **How could these trends help influence Bellabeat marketing strategy**"
   ]
  },
  {
   "cell_type": "markdown",
   "id": "84cb7195",
   "metadata": {
    "papermill": {
     "duration": 0.006359,
     "end_time": "2023-03-07T07:57:18.912689",
     "exception": false,
     "start_time": "2023-03-07T07:57:18.906330",
     "status": "completed"
    },
    "tags": []
   },
   "source": [
    "## Dataset\n",
    "\n",
    "Input dataset used for this analysis is public in nature, named [Fitbit Fitness Tracker Data](http://www.kaggle.com/datasets/arashnic/fitbit). This Kaggle data set contains personal fitness tracker from thirty fitbit users. Thirty eligible Fitbit users consented to the submission of personal tracker data, including minute-level output for physical activity, heart rate, and sleep monitoring. It includes information about daily activity, steps, and heart rate that can be used to explore users’ habits.\n",
    "\n",
    "The dataset contains 18 csv files with all the tracked data. \n"
   ]
  },
  {
   "cell_type": "markdown",
   "id": "2bf49814",
   "metadata": {
    "papermill": {
     "duration": 0.006362,
     "end_time": "2023-03-07T07:57:18.925369",
     "exception": false,
     "start_time": "2023-03-07T07:57:18.919007",
     "status": "completed"
    },
    "tags": []
   },
   "source": [
    "Installing core packages before starting the analysis. "
   ]
  },
  {
   "cell_type": "code",
   "execution_count": 1,
   "id": "d5c13d13",
   "metadata": {
    "_execution_state": "idle",
    "_uuid": "051d70d956493feee0c6d64651c6a088724dca2a",
    "execution": {
     "iopub.execute_input": "2023-03-07T07:57:18.943180Z",
     "iopub.status.busy": "2023-03-07T07:57:18.940332Z",
     "iopub.status.idle": "2023-03-07T07:57:20.487211Z",
     "shell.execute_reply": "2023-03-07T07:57:20.485216Z"
    },
    "papermill": {
     "duration": 1.55841,
     "end_time": "2023-03-07T07:57:20.490056",
     "exception": false,
     "start_time": "2023-03-07T07:57:18.931646",
     "status": "completed"
    },
    "tags": []
   },
   "outputs": [
    {
     "name": "stderr",
     "output_type": "stream",
     "text": [
      "── \u001b[1mAttaching packages\u001b[22m ─────────────────────────────────────── tidyverse 1.3.2 ──\n",
      "\u001b[32m✔\u001b[39m \u001b[34mggplot2\u001b[39m 3.4.0      \u001b[32m✔\u001b[39m \u001b[34mpurrr  \u001b[39m 1.0.1 \n",
      "\u001b[32m✔\u001b[39m \u001b[34mtibble \u001b[39m 3.1.8      \u001b[32m✔\u001b[39m \u001b[34mdplyr  \u001b[39m 1.0.10\n",
      "\u001b[32m✔\u001b[39m \u001b[34mtidyr  \u001b[39m 1.2.1      \u001b[32m✔\u001b[39m \u001b[34mstringr\u001b[39m 1.5.0 \n",
      "\u001b[32m✔\u001b[39m \u001b[34mreadr  \u001b[39m 2.1.3      \u001b[32m✔\u001b[39m \u001b[34mforcats\u001b[39m 0.5.2 \n",
      "── \u001b[1mConflicts\u001b[22m ────────────────────────────────────────── tidyverse_conflicts() ──\n",
      "\u001b[31m✖\u001b[39m \u001b[34mdplyr\u001b[39m::\u001b[32mfilter()\u001b[39m masks \u001b[34mstats\u001b[39m::filter()\n",
      "\u001b[31m✖\u001b[39m \u001b[34mdplyr\u001b[39m::\u001b[32mlag()\u001b[39m    masks \u001b[34mstats\u001b[39m::lag()\n"
     ]
    }
   ],
   "source": [
    "library(tidyverse) # metapackage of all tidyverse packages"
   ]
  },
  {
   "cell_type": "code",
   "execution_count": 2,
   "id": "b4fae312",
   "metadata": {
    "execution": {
     "iopub.execute_input": "2023-03-07T07:57:20.537225Z",
     "iopub.status.busy": "2023-03-07T07:57:20.507227Z",
     "iopub.status.idle": "2023-03-07T07:57:20.585518Z",
     "shell.execute_reply": "2023-03-07T07:57:20.583698Z"
    },
    "papermill": {
     "duration": 0.089757,
     "end_time": "2023-03-07T07:57:20.588066",
     "exception": false,
     "start_time": "2023-03-07T07:57:20.498309",
     "status": "completed"
    },
    "tags": []
   },
   "outputs": [
    {
     "name": "stderr",
     "output_type": "stream",
     "text": [
      "Loading required package: timechange\n",
      "\n",
      "\n",
      "Attaching package: ‘lubridate’\n",
      "\n",
      "\n",
      "The following objects are masked from ‘package:base’:\n",
      "\n",
      "    date, intersect, setdiff, union\n",
      "\n",
      "\n"
     ]
    }
   ],
   "source": [
    "library(readr)    #for reading csv files \n",
    "library(ggplot2)  #for visualizations \n",
    "library(dplyr)    #for data manipulation \n",
    "library(tidyr)    #for data cleaning\n",
    "library(lubridate)#for dealing with dates"
   ]
  },
  {
   "cell_type": "markdown",
   "id": "2358772f",
   "metadata": {
    "papermill": {
     "duration": 0.006823,
     "end_time": "2023-03-07T07:57:20.602086",
     "exception": false,
     "start_time": "2023-03-07T07:57:20.595263",
     "status": "completed"
    },
    "tags": []
   },
   "source": [
    "### Uploading the csv files.\n",
    "\n",
    "Out of 18 csv files, provided in the dataset, I will be using only 4 of them, which are : \n",
    "1. dailyActivity_merged : Provides a comprehensive data about the users.\n",
    "2. dailyCalories_merged : Reads the total calorie burnt by individual on a specific date. \n",
    "3. dailyIntensities_merged : Reads the total intensity workout by individual on a specific date. \n",
    "4. dailySteps_merged : Reads the total steps by individual on a specific date. \n",
    "5. weightLogInfo_merged :  Provides information about weight and height of individuals \n",
    "6. sleeDay_merged :  Provides information about sleeping patterns of individuals \n"
   ]
  },
  {
   "cell_type": "code",
   "execution_count": 3,
   "id": "8d67a9b4",
   "metadata": {
    "execution": {
     "iopub.execute_input": "2023-03-07T07:57:20.619293Z",
     "iopub.status.busy": "2023-03-07T07:57:20.617724Z",
     "iopub.status.idle": "2023-03-07T07:57:21.326120Z",
     "shell.execute_reply": "2023-03-07T07:57:21.324212Z"
    },
    "papermill": {
     "duration": 0.71958,
     "end_time": "2023-03-07T07:57:21.328589",
     "exception": false,
     "start_time": "2023-03-07T07:57:20.609009",
     "status": "completed"
    },
    "tags": []
   },
   "outputs": [
    {
     "name": "stderr",
     "output_type": "stream",
     "text": [
      "\u001b[1mRows: \u001b[22m\u001b[34m940\u001b[39m \u001b[1mColumns: \u001b[22m\u001b[34m15\u001b[39m\n",
      "\u001b[36m──\u001b[39m \u001b[1mColumn specification\u001b[22m \u001b[36m────────────────────────────────────────────────────────\u001b[39m\n",
      "\u001b[1mDelimiter:\u001b[22m \",\"\n",
      "\u001b[31mchr\u001b[39m  (1): ActivityDate\n",
      "\u001b[32mdbl\u001b[39m (14): Id, TotalSteps, TotalDistance, TrackerDistance, LoggedActivitiesDi...\n",
      "\n",
      "\u001b[36mℹ\u001b[39m Use `spec()` to retrieve the full column specification for this data.\n",
      "\u001b[36mℹ\u001b[39m Specify the column types or set `show_col_types = FALSE` to quiet this message.\n",
      "\u001b[1mRows: \u001b[22m\u001b[34m940\u001b[39m \u001b[1mColumns: \u001b[22m\u001b[34m3\u001b[39m\n",
      "\u001b[36m──\u001b[39m \u001b[1mColumn specification\u001b[22m \u001b[36m────────────────────────────────────────────────────────\u001b[39m\n",
      "\u001b[1mDelimiter:\u001b[22m \",\"\n",
      "\u001b[31mchr\u001b[39m (1): ActivityDay\n",
      "\u001b[32mdbl\u001b[39m (2): Id, Calories\n",
      "\n",
      "\u001b[36mℹ\u001b[39m Use `spec()` to retrieve the full column specification for this data.\n",
      "\u001b[36mℹ\u001b[39m Specify the column types or set `show_col_types = FALSE` to quiet this message.\n",
      "\u001b[1mRows: \u001b[22m\u001b[34m940\u001b[39m \u001b[1mColumns: \u001b[22m\u001b[34m10\u001b[39m\n",
      "\u001b[36m──\u001b[39m \u001b[1mColumn specification\u001b[22m \u001b[36m────────────────────────────────────────────────────────\u001b[39m\n",
      "\u001b[1mDelimiter:\u001b[22m \",\"\n",
      "\u001b[31mchr\u001b[39m (1): ActivityDay\n",
      "\u001b[32mdbl\u001b[39m (9): Id, SedentaryMinutes, LightlyActiveMinutes, FairlyActiveMinutes, Ve...\n",
      "\n",
      "\u001b[36mℹ\u001b[39m Use `spec()` to retrieve the full column specification for this data.\n",
      "\u001b[36mℹ\u001b[39m Specify the column types or set `show_col_types = FALSE` to quiet this message.\n",
      "\u001b[1mRows: \u001b[22m\u001b[34m940\u001b[39m \u001b[1mColumns: \u001b[22m\u001b[34m3\u001b[39m\n",
      "\u001b[36m──\u001b[39m \u001b[1mColumn specification\u001b[22m \u001b[36m────────────────────────────────────────────────────────\u001b[39m\n",
      "\u001b[1mDelimiter:\u001b[22m \",\"\n",
      "\u001b[31mchr\u001b[39m (1): ActivityDay\n",
      "\u001b[32mdbl\u001b[39m (2): Id, StepTotal\n",
      "\n",
      "\u001b[36mℹ\u001b[39m Use `spec()` to retrieve the full column specification for this data.\n",
      "\u001b[36mℹ\u001b[39m Specify the column types or set `show_col_types = FALSE` to quiet this message.\n",
      "\u001b[1mRows: \u001b[22m\u001b[34m67\u001b[39m \u001b[1mColumns: \u001b[22m\u001b[34m8\u001b[39m\n",
      "\u001b[36m──\u001b[39m \u001b[1mColumn specification\u001b[22m \u001b[36m────────────────────────────────────────────────────────\u001b[39m\n",
      "\u001b[1mDelimiter:\u001b[22m \",\"\n",
      "\u001b[31mchr\u001b[39m (1): Date\n",
      "\u001b[32mdbl\u001b[39m (6): Id, WeightKg, WeightPounds, Fat, BMI, LogId\n",
      "\u001b[33mlgl\u001b[39m (1): IsManualReport\n",
      "\n",
      "\u001b[36mℹ\u001b[39m Use `spec()` to retrieve the full column specification for this data.\n",
      "\u001b[36mℹ\u001b[39m Specify the column types or set `show_col_types = FALSE` to quiet this message.\n",
      "\u001b[1mRows: \u001b[22m\u001b[34m413\u001b[39m \u001b[1mColumns: \u001b[22m\u001b[34m5\u001b[39m\n",
      "\u001b[36m──\u001b[39m \u001b[1mColumn specification\u001b[22m \u001b[36m────────────────────────────────────────────────────────\u001b[39m\n",
      "\u001b[1mDelimiter:\u001b[22m \",\"\n",
      "\u001b[31mchr\u001b[39m (1): SleepDay\n",
      "\u001b[32mdbl\u001b[39m (4): Id, TotalSleepRecords, TotalMinutesAsleep, TotalTimeInBed\n",
      "\n",
      "\u001b[36mℹ\u001b[39m Use `spec()` to retrieve the full column specification for this data.\n",
      "\u001b[36mℹ\u001b[39m Specify the column types or set `show_col_types = FALSE` to quiet this message.\n"
     ]
    }
   ],
   "source": [
    "daily_activity <- as_tibble(read_csv(\"/kaggle/input/fitbit/Fitabase Data 4.12.16-5.12.16/dailyActivity_merged.csv\"))\n",
    "daily_calories <- as_tibble(read_csv(\"/kaggle/input/fitbit/Fitabase Data 4.12.16-5.12.16/dailyCalories_merged.csv\"))\n",
    "daily_intensity <- as_tibble(read_csv(\"/kaggle/input/fitbit/Fitabase Data 4.12.16-5.12.16/dailyIntensities_merged.csv\"))\n",
    "daily_steps <- as_tibble(read_csv(\"/kaggle/input/fitbit/Fitabase Data 4.12.16-5.12.16/dailySteps_merged.csv\"))\n",
    "weight_info <- as_tibble(read_csv(\"/kaggle/input/fitbit/Fitabase Data 4.12.16-5.12.16/weightLogInfo_merged.csv\"))\n",
    "sleep_info <- as_tibble(read_csv(\"/kaggle/input/fitbit/Fitabase Data 4.12.16-5.12.16/sleepDay_merged.csv\"))"
   ]
  },
  {
   "cell_type": "markdown",
   "id": "1bc98078",
   "metadata": {
    "papermill": {
     "duration": 0.008557,
     "end_time": "2023-03-07T07:57:21.345123",
     "exception": false,
     "start_time": "2023-03-07T07:57:21.336566",
     "status": "completed"
    },
    "tags": []
   },
   "source": [
    "### Cleaning the data "
   ]
  },
  {
   "cell_type": "markdown",
   "id": "418bcb8f",
   "metadata": {
    "papermill": {
     "duration": 0.007869,
     "end_time": "2023-03-07T07:57:21.360855",
     "exception": false,
     "start_time": "2023-03-07T07:57:21.352986",
     "status": "completed"
    },
    "tags": []
   },
   "source": [
    "After uploading the required csv files, let us take a look at the data to determine the next step in out analysis. We will be using glimpse()/str()/head() in R for the same. "
   ]
  },
  {
   "cell_type": "code",
   "execution_count": 4,
   "id": "63d42e10",
   "metadata": {
    "execution": {
     "iopub.execute_input": "2023-03-07T07:57:21.381155Z",
     "iopub.status.busy": "2023-03-07T07:57:21.379572Z",
     "iopub.status.idle": "2023-03-07T07:57:21.405829Z",
     "shell.execute_reply": "2023-03-07T07:57:21.403770Z"
    },
    "papermill": {
     "duration": 0.039716,
     "end_time": "2023-03-07T07:57:21.408845",
     "exception": false,
     "start_time": "2023-03-07T07:57:21.369129",
     "status": "completed"
    },
    "tags": []
   },
   "outputs": [
    {
     "name": "stdout",
     "output_type": "stream",
     "text": [
      "tibble [413 × 5] (S3: tbl_df/tbl/data.frame)\n",
      " $ Id                : num [1:413] 1.5e+09 1.5e+09 1.5e+09 1.5e+09 1.5e+09 ...\n",
      " $ SleepDay          : chr [1:413] \"4/12/2016 12:00:00 AM\" \"4/13/2016 12:00:00 AM\" \"4/15/2016 12:00:00 AM\" \"4/16/2016 12:00:00 AM\" ...\n",
      " $ TotalSleepRecords : num [1:413] 1 2 1 2 1 1 1 1 1 1 ...\n",
      " $ TotalMinutesAsleep: num [1:413] 327 384 412 340 700 304 360 325 361 430 ...\n",
      " $ TotalTimeInBed    : num [1:413] 346 407 442 367 712 320 377 364 384 449 ...\n"
     ]
    }
   ],
   "source": [
    "str(sleep_info)"
   ]
  },
  {
   "cell_type": "code",
   "execution_count": 5,
   "id": "9e02fdba",
   "metadata": {
    "execution": {
     "iopub.execute_input": "2023-03-07T07:57:21.428852Z",
     "iopub.status.busy": "2023-03-07T07:57:21.427372Z",
     "iopub.status.idle": "2023-03-07T07:57:21.451051Z",
     "shell.execute_reply": "2023-03-07T07:57:21.448719Z"
    },
    "papermill": {
     "duration": 0.036274,
     "end_time": "2023-03-07T07:57:21.453570",
     "exception": false,
     "start_time": "2023-03-07T07:57:21.417296",
     "status": "completed"
    },
    "tags": []
   },
   "outputs": [
    {
     "name": "stdout",
     "output_type": "stream",
     "text": [
      "tibble [67 × 8] (S3: tbl_df/tbl/data.frame)\n",
      " $ Id            : num [1:67] 1.50e+09 1.50e+09 1.93e+09 2.87e+09 2.87e+09 ...\n",
      " $ Date          : chr [1:67] \"5/2/2016 11:59:59 PM\" \"5/3/2016 11:59:59 PM\" \"4/13/2016 1:08:52 AM\" \"4/21/2016 11:59:59 PM\" ...\n",
      " $ WeightKg      : num [1:67] 52.6 52.6 133.5 56.7 57.3 ...\n",
      " $ WeightPounds  : num [1:67] 116 116 294 125 126 ...\n",
      " $ Fat           : num [1:67] 22 NA NA NA NA 25 NA NA NA NA ...\n",
      " $ BMI           : num [1:67] 22.6 22.6 47.5 21.5 21.7 ...\n",
      " $ IsManualReport: logi [1:67] TRUE TRUE FALSE TRUE TRUE TRUE ...\n",
      " $ LogId         : num [1:67] 1.46e+12 1.46e+12 1.46e+12 1.46e+12 1.46e+12 ...\n"
     ]
    }
   ],
   "source": [
    "str(weight_info)"
   ]
  },
  {
   "cell_type": "markdown",
   "id": "c7f91358",
   "metadata": {
    "papermill": {
     "duration": 0.008005,
     "end_time": "2023-03-07T07:57:21.469804",
     "exception": false,
     "start_time": "2023-03-07T07:57:21.461799",
     "status": "completed"
    },
    "tags": []
   },
   "source": [
    "Parsing Date column to date datatype containing only dates not time."
   ]
  },
  {
   "cell_type": "code",
   "execution_count": 6,
   "id": "b2a04221",
   "metadata": {
    "execution": {
     "iopub.execute_input": "2023-03-07T07:57:21.489761Z",
     "iopub.status.busy": "2023-03-07T07:57:21.488134Z",
     "iopub.status.idle": "2023-03-07T07:57:21.567920Z",
     "shell.execute_reply": "2023-03-07T07:57:21.565122Z"
    },
    "papermill": {
     "duration": 0.09224,
     "end_time": "2023-03-07T07:57:21.570694",
     "exception": false,
     "start_time": "2023-03-07T07:57:21.478454",
     "status": "completed"
    },
    "tags": []
   },
   "outputs": [
    {
     "name": "stdout",
     "output_type": "stream",
     "text": [
      "tibble [67 × 8] (S3: tbl_df/tbl/data.frame)\n",
      " $ Id            : num [1:67] 1.50e+09 1.50e+09 1.93e+09 2.87e+09 2.87e+09 ...\n",
      " $ ActivityDay   : Date[1:67], format: \"2016-05-02\" \"2016-05-03\" ...\n",
      " $ WeightKg      : num [1:67] 52.6 52.6 133.5 56.7 57.3 ...\n",
      " $ WeightPounds  : num [1:67] 116 116 294 125 126 ...\n",
      " $ Fat           : num [1:67] 22 NA NA NA NA 25 NA NA NA NA ...\n",
      " $ BMI           : num [1:67] 22.6 22.6 47.5 21.5 21.7 ...\n",
      " $ IsManualReport: logi [1:67] TRUE TRUE FALSE TRUE TRUE TRUE ...\n",
      " $ LogId         : num [1:67] 1.46e+12 1.46e+12 1.46e+12 1.46e+12 1.46e+12 ...\n"
     ]
    }
   ],
   "source": [
    "weight_info <- mutate(weight_info, Date = as.Date(Date, format= \"%m/%d/%Y\"))\n",
    "weight_info <- rename(weight_info, ActivityDay = Date)\n",
    "str(weight_info)"
   ]
  },
  {
   "cell_type": "code",
   "execution_count": 7,
   "id": "87d14cbf",
   "metadata": {
    "execution": {
     "iopub.execute_input": "2023-03-07T07:57:21.590646Z",
     "iopub.status.busy": "2023-03-07T07:57:21.589151Z",
     "iopub.status.idle": "2023-03-07T07:57:21.622145Z",
     "shell.execute_reply": "2023-03-07T07:57:21.619626Z"
    },
    "papermill": {
     "duration": 0.046373,
     "end_time": "2023-03-07T07:57:21.625163",
     "exception": false,
     "start_time": "2023-03-07T07:57:21.578790",
     "status": "completed"
    },
    "tags": []
   },
   "outputs": [
    {
     "name": "stdout",
     "output_type": "stream",
     "text": [
      "tibble [413 × 5] (S3: tbl_df/tbl/data.frame)\n",
      " $ Id                : num [1:413] 1.5e+09 1.5e+09 1.5e+09 1.5e+09 1.5e+09 ...\n",
      " $ ActivityDay       : Date[1:413], format: \"2016-04-12\" \"2016-04-13\" ...\n",
      " $ TotalSleepRecords : num [1:413] 1 2 1 2 1 1 1 1 1 1 ...\n",
      " $ TotalMinutesAsleep: num [1:413] 327 384 412 340 700 304 360 325 361 430 ...\n",
      " $ TotalTimeInBed    : num [1:413] 346 407 442 367 712 320 377 364 384 449 ...\n"
     ]
    }
   ],
   "source": [
    "sleep_info <- mutate(sleep_info, SleepDay = as.Date(SleepDay, format= \"%m/%d/%Y\"))\n",
    "sleep_info <- rename(sleep_info, ActivityDay = SleepDay)\n",
    "str(sleep_info)"
   ]
  },
  {
   "cell_type": "code",
   "execution_count": 8,
   "id": "c26a0d53",
   "metadata": {
    "execution": {
     "iopub.execute_input": "2023-03-07T07:57:21.645190Z",
     "iopub.status.busy": "2023-03-07T07:57:21.643671Z",
     "iopub.status.idle": "2023-03-07T07:57:21.686363Z",
     "shell.execute_reply": "2023-03-07T07:57:21.683219Z"
    },
    "papermill": {
     "duration": 0.056139,
     "end_time": "2023-03-07T07:57:21.689800",
     "exception": false,
     "start_time": "2023-03-07T07:57:21.633661",
     "status": "completed"
    },
    "tags": []
   },
   "outputs": [
    {
     "name": "stdout",
     "output_type": "stream",
     "text": [
      "Rows: 940\n",
      "Columns: 15\n",
      "$ Id                       \u001b[3m\u001b[90m<dbl>\u001b[39m\u001b[23m 1503960366, 1503960366, 1503960366, 150396036…\n",
      "$ ActivityDate             \u001b[3m\u001b[90m<chr>\u001b[39m\u001b[23m \"4/12/2016\", \"4/13/2016\", \"4/14/2016\", \"4/15/…\n",
      "$ TotalSteps               \u001b[3m\u001b[90m<dbl>\u001b[39m\u001b[23m 13162, 10735, 10460, 9762, 12669, 9705, 13019…\n",
      "$ TotalDistance            \u001b[3m\u001b[90m<dbl>\u001b[39m\u001b[23m 8.50, 6.97, 6.74, 6.28, 8.16, 6.48, 8.59, 9.8…\n",
      "$ TrackerDistance          \u001b[3m\u001b[90m<dbl>\u001b[39m\u001b[23m 8.50, 6.97, 6.74, 6.28, 8.16, 6.48, 8.59, 9.8…\n",
      "$ LoggedActivitiesDistance \u001b[3m\u001b[90m<dbl>\u001b[39m\u001b[23m 0, 0, 0, 0, 0, 0, 0, 0, 0, 0, 0, 0, 0, 0, 0, …\n",
      "$ VeryActiveDistance       \u001b[3m\u001b[90m<dbl>\u001b[39m\u001b[23m 1.88, 1.57, 2.44, 2.14, 2.71, 3.19, 3.25, 3.5…\n",
      "$ ModeratelyActiveDistance \u001b[3m\u001b[90m<dbl>\u001b[39m\u001b[23m 0.55, 0.69, 0.40, 1.26, 0.41, 0.78, 0.64, 1.3…\n",
      "$ LightActiveDistance      \u001b[3m\u001b[90m<dbl>\u001b[39m\u001b[23m 6.06, 4.71, 3.91, 2.83, 5.04, 2.51, 4.71, 5.0…\n",
      "$ SedentaryActiveDistance  \u001b[3m\u001b[90m<dbl>\u001b[39m\u001b[23m 0, 0, 0, 0, 0, 0, 0, 0, 0, 0, 0, 0, 0, 0, 0, …\n",
      "$ VeryActiveMinutes        \u001b[3m\u001b[90m<dbl>\u001b[39m\u001b[23m 25, 21, 30, 29, 36, 38, 42, 50, 28, 19, 66, 4…\n",
      "$ FairlyActiveMinutes      \u001b[3m\u001b[90m<dbl>\u001b[39m\u001b[23m 13, 19, 11, 34, 10, 20, 16, 31, 12, 8, 27, 21…\n",
      "$ LightlyActiveMinutes     \u001b[3m\u001b[90m<dbl>\u001b[39m\u001b[23m 328, 217, 181, 209, 221, 164, 233, 264, 205, …\n",
      "$ SedentaryMinutes         \u001b[3m\u001b[90m<dbl>\u001b[39m\u001b[23m 728, 776, 1218, 726, 773, 539, 1149, 775, 818…\n",
      "$ Calories                 \u001b[3m\u001b[90m<dbl>\u001b[39m\u001b[23m 1985, 1797, 1776, 1745, 1863, 1728, 1921, 203…\n"
     ]
    }
   ],
   "source": [
    "glimpse(daily_activity)"
   ]
  },
  {
   "cell_type": "code",
   "execution_count": 9,
   "id": "035089db",
   "metadata": {
    "execution": {
     "iopub.execute_input": "2023-03-07T07:57:21.710323Z",
     "iopub.status.busy": "2023-03-07T07:57:21.708772Z",
     "iopub.status.idle": "2023-03-07T07:57:21.736871Z",
     "shell.execute_reply": "2023-03-07T07:57:21.734709Z"
    },
    "papermill": {
     "duration": 0.041182,
     "end_time": "2023-03-07T07:57:21.739369",
     "exception": false,
     "start_time": "2023-03-07T07:57:21.698187",
     "status": "completed"
    },
    "tags": []
   },
   "outputs": [
    {
     "name": "stdout",
     "output_type": "stream",
     "text": [
      "tibble [940 × 15] (S3: tbl_df/tbl/data.frame)\n",
      " $ Id                      : num [1:940] 1.5e+09 1.5e+09 1.5e+09 1.5e+09 1.5e+09 ...\n",
      " $ ActivityDate            : chr [1:940] \"4/12/2016\" \"4/13/2016\" \"4/14/2016\" \"4/15/2016\" ...\n",
      " $ TotalSteps              : num [1:940] 13162 10735 10460 9762 12669 ...\n",
      " $ TotalDistance           : num [1:940] 8.5 6.97 6.74 6.28 8.16 ...\n",
      " $ TrackerDistance         : num [1:940] 8.5 6.97 6.74 6.28 8.16 ...\n",
      " $ LoggedActivitiesDistance: num [1:940] 0 0 0 0 0 0 0 0 0 0 ...\n",
      " $ VeryActiveDistance      : num [1:940] 1.88 1.57 2.44 2.14 2.71 ...\n",
      " $ ModeratelyActiveDistance: num [1:940] 0.55 0.69 0.4 1.26 0.41 ...\n",
      " $ LightActiveDistance     : num [1:940] 6.06 4.71 3.91 2.83 5.04 ...\n",
      " $ SedentaryActiveDistance : num [1:940] 0 0 0 0 0 0 0 0 0 0 ...\n",
      " $ VeryActiveMinutes       : num [1:940] 25 21 30 29 36 38 42 50 28 19 ...\n",
      " $ FairlyActiveMinutes     : num [1:940] 13 19 11 34 10 20 16 31 12 8 ...\n",
      " $ LightlyActiveMinutes    : num [1:940] 328 217 181 209 221 164 233 264 205 211 ...\n",
      " $ SedentaryMinutes        : num [1:940] 728 776 1218 726 773 ...\n",
      " $ Calories                : num [1:940] 1985 1797 1776 1745 1863 ...\n"
     ]
    }
   ],
   "source": [
    "str(daily_activity)"
   ]
  },
  {
   "cell_type": "markdown",
   "id": "e45526ea",
   "metadata": {
    "papermill": {
     "duration": 0.008608,
     "end_time": "2023-03-07T07:57:21.756305",
     "exception": false,
     "start_time": "2023-03-07T07:57:21.747697",
     "status": "completed"
    },
    "tags": []
   },
   "source": [
    "As seen in the structure of data, ActivityDate column is of character datatype. Converting the same into date type. "
   ]
  },
  {
   "cell_type": "code",
   "execution_count": 10,
   "id": "6604e739",
   "metadata": {
    "execution": {
     "iopub.execute_input": "2023-03-07T07:57:21.776375Z",
     "iopub.status.busy": "2023-03-07T07:57:21.774436Z",
     "iopub.status.idle": "2023-03-07T07:57:21.800037Z",
     "shell.execute_reply": "2023-03-07T07:57:21.798216Z"
    },
    "papermill": {
     "duration": 0.038217,
     "end_time": "2023-03-07T07:57:21.802708",
     "exception": false,
     "start_time": "2023-03-07T07:57:21.764491",
     "status": "completed"
    },
    "tags": []
   },
   "outputs": [],
   "source": [
    "daily_activity$ActivityDate <- parse_date_time(daily_activity$ActivityDate, orders = c('mdy', 'dmy'))"
   ]
  },
  {
   "cell_type": "code",
   "execution_count": 11,
   "id": "cd163ab5",
   "metadata": {
    "execution": {
     "iopub.execute_input": "2023-03-07T07:57:21.823716Z",
     "iopub.status.busy": "2023-03-07T07:57:21.822103Z",
     "iopub.status.idle": "2023-03-07T07:57:21.862568Z",
     "shell.execute_reply": "2023-03-07T07:57:21.860391Z"
    },
    "papermill": {
     "duration": 0.053559,
     "end_time": "2023-03-07T07:57:21.865101",
     "exception": false,
     "start_time": "2023-03-07T07:57:21.811542",
     "status": "completed"
    },
    "tags": []
   },
   "outputs": [
    {
     "name": "stdout",
     "output_type": "stream",
     "text": [
      "tibble [940 × 3] (S3: tbl_df/tbl/data.frame)\n",
      " $ Id         : num [1:940] 1.5e+09 1.5e+09 1.5e+09 1.5e+09 1.5e+09 ...\n",
      " $ ActivityDay: chr [1:940] \"4/12/2016\" \"4/13/2016\" \"4/14/2016\" \"4/15/2016\" ...\n",
      " $ Calories   : num [1:940] 1985 1797 1776 1745 1863 ...\n",
      "tibble [940 × 10] (S3: tbl_df/tbl/data.frame)\n",
      " $ Id                      : num [1:940] 1.5e+09 1.5e+09 1.5e+09 1.5e+09 1.5e+09 ...\n",
      " $ ActivityDay             : chr [1:940] \"4/12/2016\" \"4/13/2016\" \"4/14/2016\" \"4/15/2016\" ...\n",
      " $ SedentaryMinutes        : num [1:940] 728 776 1218 726 773 ...\n",
      " $ LightlyActiveMinutes    : num [1:940] 328 217 181 209 221 164 233 264 205 211 ...\n",
      " $ FairlyActiveMinutes     : num [1:940] 13 19 11 34 10 20 16 31 12 8 ...\n",
      " $ VeryActiveMinutes       : num [1:940] 25 21 30 29 36 38 42 50 28 19 ...\n",
      " $ SedentaryActiveDistance : num [1:940] 0 0 0 0 0 0 0 0 0 0 ...\n",
      " $ LightActiveDistance     : num [1:940] 6.06 4.71 3.91 2.83 5.04 ...\n",
      " $ ModeratelyActiveDistance: num [1:940] 0.55 0.69 0.4 1.26 0.41 ...\n",
      " $ VeryActiveDistance      : num [1:940] 1.88 1.57 2.44 2.14 2.71 ...\n",
      "tibble [940 × 3] (S3: tbl_df/tbl/data.frame)\n",
      " $ Id         : num [1:940] 1.5e+09 1.5e+09 1.5e+09 1.5e+09 1.5e+09 ...\n",
      " $ ActivityDay: chr [1:940] \"4/12/2016\" \"4/13/2016\" \"4/14/2016\" \"4/15/2016\" ...\n",
      " $ StepTotal  : num [1:940] 13162 10735 10460 9762 12669 ...\n"
     ]
    }
   ],
   "source": [
    "str(daily_calories)\n",
    "str(daily_intensity)\n",
    "str(daily_steps)"
   ]
  },
  {
   "cell_type": "code",
   "execution_count": 12,
   "id": "6499156f",
   "metadata": {
    "execution": {
     "iopub.execute_input": "2023-03-07T07:57:21.885689Z",
     "iopub.status.busy": "2023-03-07T07:57:21.884109Z",
     "iopub.status.idle": "2023-03-07T07:57:21.919773Z",
     "shell.execute_reply": "2023-03-07T07:57:21.917958Z"
    },
    "papermill": {
     "duration": 0.048652,
     "end_time": "2023-03-07T07:57:21.922410",
     "exception": false,
     "start_time": "2023-03-07T07:57:21.873758",
     "status": "completed"
    },
    "tags": []
   },
   "outputs": [],
   "source": [
    "daily_calories$ActivityDay <- parse_date_time(daily_calories$ActivityDay, orders = c('mdy', 'dmy'))\n",
    "daily_intensity$ActivityDay <- parse_date_time(daily_intensity$ActivityDay, orders = c('mdy', 'dmy'))\n",
    "daily_steps$ActivityDay <- parse_date_time(daily_steps$ActivityDay, orders = c('mdy', 'dmy'))"
   ]
  },
  {
   "cell_type": "markdown",
   "id": "bade1550",
   "metadata": {
    "papermill": {
     "duration": 0.008931,
     "end_time": "2023-03-07T07:57:21.940020",
     "exception": false,
     "start_time": "2023-03-07T07:57:21.931089",
     "status": "completed"
    },
    "tags": []
   },
   "source": [
    "As, the data type for Date column has been fixed, next step would be to combine these datasets into one. Keeping the argument all as FALSE, we are making sure that it is an inner join i.e. only the rows matched are present. "
   ]
  },
  {
   "cell_type": "code",
   "execution_count": 13,
   "id": "4935ccd6",
   "metadata": {
    "execution": {
     "iopub.execute_input": "2023-03-07T07:57:21.961119Z",
     "iopub.status.busy": "2023-03-07T07:57:21.959496Z",
     "iopub.status.idle": "2023-03-07T07:57:22.018955Z",
     "shell.execute_reply": "2023-03-07T07:57:22.016763Z"
    },
    "papermill": {
     "duration": 0.072442,
     "end_time": "2023-03-07T07:57:22.021543",
     "exception": false,
     "start_time": "2023-03-07T07:57:21.949101",
     "status": "completed"
    },
    "tags": []
   },
   "outputs": [
    {
     "name": "stdout",
     "output_type": "stream",
     "text": [
      "'data.frame':\t940 obs. of  12 variables:\n",
      " $ Id                      : num  1.5e+09 1.5e+09 1.5e+09 1.5e+09 1.5e+09 ...\n",
      " $ ActivityDay             : POSIXct, format: \"2016-04-12\" \"2016-04-13\" ...\n",
      " $ Calories                : num  1985 1797 1776 1745 1863 ...\n",
      " $ SedentaryMinutes        : num  728 776 1218 726 773 ...\n",
      " $ LightlyActiveMinutes    : num  328 217 181 209 221 164 233 264 205 211 ...\n",
      " $ FairlyActiveMinutes     : num  13 19 11 34 10 20 16 31 12 8 ...\n",
      " $ VeryActiveMinutes       : num  25 21 30 29 36 38 42 50 28 19 ...\n",
      " $ SedentaryActiveDistance : num  0 0 0 0 0 0 0 0 0 0 ...\n",
      " $ LightActiveDistance     : num  6.06 4.71 3.91 2.83 5.04 ...\n",
      " $ ModeratelyActiveDistance: num  0.55 0.69 0.4 1.26 0.41 ...\n",
      " $ VeryActiveDistance      : num  1.88 1.57 2.44 2.14 2.71 ...\n",
      " $ StepTotal               : num  13162 10735 10460 9762 12669 ...\n"
     ]
    }
   ],
   "source": [
    "merge1 <- merge(daily_calories, daily_intensity, all = FALSE)\n",
    "merge2 <- merge(merge1, daily_steps, all = FALSE)\n",
    "str(merge2)"
   ]
  },
  {
   "cell_type": "markdown",
   "id": "cd30c22b",
   "metadata": {
    "papermill": {
     "duration": 0.008811,
     "end_time": "2023-03-07T07:57:22.039324",
     "exception": false,
     "start_time": "2023-03-07T07:57:22.030513",
     "status": "completed"
    },
    "tags": []
   },
   "source": [
    "Before combining daily_Activity, we can see that the column for dates has name ActivityDate while the merged dataframe has ActivityDay. Changing the name of column from ActivityDate to ActivityDay"
   ]
  },
  {
   "cell_type": "code",
   "execution_count": 14,
   "id": "7ff30cb7",
   "metadata": {
    "execution": {
     "iopub.execute_input": "2023-03-07T07:57:22.059804Z",
     "iopub.status.busy": "2023-03-07T07:57:22.058347Z",
     "iopub.status.idle": "2023-03-07T07:57:22.153800Z",
     "shell.execute_reply": "2023-03-07T07:57:22.151621Z"
    },
    "papermill": {
     "duration": 0.108458,
     "end_time": "2023-03-07T07:57:22.156332",
     "exception": false,
     "start_time": "2023-03-07T07:57:22.047874",
     "status": "completed"
    },
    "tags": []
   },
   "outputs": [
    {
     "name": "stdout",
     "output_type": "stream",
     "text": [
      "'data.frame':\t35 obs. of  25 variables:\n",
      " $ Id                      : num  1.50e+09 1.50e+09 1.93e+09 4.56e+09 5.58e+09 ...\n",
      " $ ActivityDay             : POSIXct, format: \"2016-05-02\" \"2016-05-03\" ...\n",
      " $ Calories                : num  2004 1990 2151 1692 4552 ...\n",
      " $ SedentaryMinutes        : num  798 816 986 1121 525 ...\n",
      " $ LightlyActiveMinutes    : num  277 254 32 190 159 189 142 86 217 280 ...\n",
      " $ FairlyActiveMinutes     : num  15 24 0 0 37 14 24 0 0 3 ...\n",
      " $ VeryActiveMinutes       : num  41 50 0 0 200 50 8 0 0 50 ...\n",
      " $ SedentaryActiveDistance : num  0 0 0 0 0 0 0 0 0 0 ...\n",
      " $ LightActiveDistance     : num  5.92 4.88 0.25 2.27 2.32 ...\n",
      " $ ModeratelyActiveDistance: num  0.57 1.05 0 0 0.83 ...\n",
      " $ VeryActiveDistance      : num  3.21 3.73 0 0 5.98 ...\n",
      " $ StepTotal               : num  14727 15103 356 3428 12231 ...\n",
      " $ TotalSteps              : num  14727 15103 356 3428 12231 ...\n",
      " $ TotalDistance           : num  9.71 9.66 0.25 2.27 9.14 ...\n",
      " $ TrackerDistance         : num  9.71 9.66 0.25 2.27 9.14 ...\n",
      " $ LoggedActivitiesDistance: num  0 0 0 0 0 0 0 0 0 0 ...\n",
      " $ TotalSleepRecords       : num  1 1 1 1 1 1 3 2 1 1 ...\n",
      " $ TotalMinutesAsleep      : num  277 273 398 115 549 366 630 508 370 357 ...\n",
      " $ TotalTimeInBed          : num  309 296 422 129 583 387 679 535 386 366 ...\n",
      " $ WeightKg                : num  52.6 52.6 133.5 69.9 90.7 ...\n",
      " $ WeightPounds            : num  116 116 294 154 200 ...\n",
      " $ Fat                     : num  22 NA NA NA NA NA NA NA NA NA ...\n",
      " $ BMI                     : num  22.6 22.6 47.5 27.3 28 ...\n",
      " $ IsManualReport          : logi  TRUE TRUE FALSE TRUE FALSE TRUE ...\n",
      " $ LogId                   : num  1.46e+12 1.46e+12 1.46e+12 1.46e+12 1.46e+12 ...\n"
     ]
    }
   ],
   "source": [
    "daily_activity <- rename(daily_activity, ActivityDay = ActivityDate)\n",
    "merge_3 <- merge(merge2, daily_activity, all = FALSE)\n",
    "merge_4 <- merge(merge_3, sleep_info, all = FALSE)\n",
    "final_merge <- merge(merge_4, weight_info, all = FALSE)\n",
    "str(final_merge)"
   ]
  },
  {
   "cell_type": "markdown",
   "id": "22843221",
   "metadata": {
    "papermill": {
     "duration": 0.008787,
     "end_time": "2023-03-07T07:57:22.174370",
     "exception": false,
     "start_time": "2023-03-07T07:57:22.165583",
     "status": "completed"
    },
    "tags": []
   },
   "source": [
    "### Analysis and Observations "
   ]
  },
  {
   "cell_type": "code",
   "execution_count": 15,
   "id": "15a24715",
   "metadata": {
    "execution": {
     "iopub.execute_input": "2023-03-07T07:57:22.195318Z",
     "iopub.status.busy": "2023-03-07T07:57:22.193776Z",
     "iopub.status.idle": "2023-03-07T07:57:22.995045Z",
     "shell.execute_reply": "2023-03-07T07:57:22.991713Z"
    },
    "papermill": {
     "duration": 0.815749,
     "end_time": "2023-03-07T07:57:22.998844",
     "exception": false,
     "start_time": "2023-03-07T07:57:22.183095",
     "status": "completed"
    },
    "tags": []
   },
   "outputs": [
    {
     "data": {
      "image/png": "[encoded data removed]"
     },
     "metadata": {
      "image/png": {
       "height": 420,
       "width": 420
      }
     },
     "output_type": "display_data"
    }
   ],
   "source": [
    "#plotting BMI for underweight, normal range, overweight and obese\n",
    "final_merge <- final_merge %>% mutate(BMI_Range = case_when(BMI < 18.5 ~ 'underweight',\n",
    "                                                           BMI >= 18.5 & BMI <25 ~ 'normal',\n",
    "                                                           BMI >= 25 & BMI <30 ~ 'overweight',\n",
    "                                                           BMI >30 ~ 'obese'))\n",
    "\n",
    "fig1 = ggplot(data = final_merge) + geom_bar(mapping = aes(x = BMI_Range, fill = BMI_Range)) + \n",
    "geom_text(aes(x=BMI_Range, label = after_stat(count)), position = position_stack(vjust = 0.5), stat = \"count\")\n",
    "fig1\n"
   ]
  },
  {
   "cell_type": "markdown",
   "id": "1f59f59b",
   "metadata": {
    "papermill": {
     "duration": 0.009536,
     "end_time": "2023-03-07T07:57:23.018193",
     "exception": false,
     "start_time": "2023-03-07T07:57:23.008657",
     "status": "completed"
    },
    "tags": []
   },
   "source": [
    "As can be seen, there are no underweight person in the sample. There are 34 people in normal BMI range, 32 are overweight and 1 person is obese. \n",
    "\n",
    "Trying to map these BMI categories to the average steps walked and average calories burnt, seeing if there is any coorelation. "
   ]
  },
  {
   "cell_type": "code",
   "execution_count": 16,
   "id": "6403e0d4",
   "metadata": {
    "execution": {
     "iopub.execute_input": "2023-03-07T07:57:23.041644Z",
     "iopub.status.busy": "2023-03-07T07:57:23.039672Z",
     "iopub.status.idle": "2023-03-07T07:57:23.141804Z",
     "shell.execute_reply": "2023-03-07T07:57:23.139417Z"
    },
    "papermill": {
     "duration": 0.117637,
     "end_time": "2023-03-07T07:57:23.145412",
     "exception": false,
     "start_time": "2023-03-07T07:57:23.027775",
     "status": "completed"
    },
    "tags": []
   },
   "outputs": [
    {
     "name": "stdout",
     "output_type": "stream",
     "text": [
      "            BMI avg_steps_walked avg_calories_burnt avg_sleep_minutes\n",
      "1 normal_weight         10094.88           1982.031          437.4062\n",
      "2   over_weight          7829.50           3122.000          332.0000\n",
      "3         obese           356.00           2151.000          398.0000\n"
     ]
    }
   ],
   "source": [
    "underweight <- final_merge %>% filter(BMI < 18.5)\n",
    "normal_weight <- final_merge %>% filter(BMI >= 18.5 & BMI <25)\n",
    "over_weight <- final_merge %>% filter(BMI >= 25 & BMI <30)\n",
    "obese <- final_merge %>% filter(BMI >= 30)\n",
    "\n",
    "avg_steps_walked <- c(mean(normal_weight$TotalSteps), mean(over_weight$TotalSteps),mean(obese$TotalSteps))\n",
    "#names(avg_steps_walked) <- c('normal_weight', 'over_weight', 'obese')\n",
    "\n",
    "avg_calories_burnt <- c(mean(normal_weight$Calories), mean(over_weight$Calories),mean(obese$Calories))\n",
    "#names(avg_calories_burnt) <- c('normal_weight', 'over_weight', 'obese')\n",
    "\n",
    "avg_sleep_minutes <- c(mean(normal_weight$TotalMinutesAsleep), mean(over_weight$TotalMinutesAsleep),mean(obese$TotalMinutesAsleep))\n",
    "#names(avg_sleep_minutes) <- c('normal_weight', 'over_weight', 'obese')\n",
    "\n",
    "data <- data.frame(BMI = c('normal_weight', 'over_weight', 'obese'), avg_steps_walked = avg_steps_walked, avg_calories_burnt = avg_calories_burnt, avg_sleep_minutes = avg_sleep_minutes )\n",
    "print(data)\n",
    "#barplot(data, beside = T, col = data ) + legend(\"center\",\n",
    "#       legend = c(\"normal weight\",\"overweight\",\"obese\"),\n",
    "#       fill = data,       \n",
    "#      border = \"black\", bty = \"n\", cex = 1.5)"
   ]
  },
  {
   "cell_type": "code",
   "execution_count": 17,
   "id": "be5fbfcd",
   "metadata": {
    "execution": {
     "iopub.execute_input": "2023-03-07T07:57:23.168649Z",
     "iopub.status.busy": "2023-03-07T07:57:23.166856Z",
     "iopub.status.idle": "2023-03-07T07:57:23.210672Z",
     "shell.execute_reply": "2023-03-07T07:57:23.198645Z"
    },
    "papermill": {
     "duration": 0.059758,
     "end_time": "2023-03-07T07:57:23.214691",
     "exception": false,
     "start_time": "2023-03-07T07:57:23.154933",
     "status": "completed"
    },
    "tags": []
   },
   "outputs": [],
   "source": [
    "fig2 <- ggplot(data, mapping = aes(x = BMI , y = avg_steps_walked, fill = BMI)) + geom_col()\n",
    "fig3 <- ggplot(data, mapping = aes(x = BMI , y = avg_calories_burnt, fill = BMI)) + geom_col()\n",
    "fig4 <- ggplot(data, mapping = aes(x = BMI , y = avg_sleep_minutes, fill = BMI)) + geom_col()\n"
   ]
  },
  {
   "cell_type": "code",
   "execution_count": 18,
   "id": "32ed01da",
   "metadata": {
    "execution": {
     "iopub.execute_input": "2023-03-07T07:57:23.238524Z",
     "iopub.status.busy": "2023-03-07T07:57:23.236734Z",
     "iopub.status.idle": "2023-03-07T07:57:24.235151Z",
     "shell.execute_reply": "2023-03-07T07:57:24.233351Z"
    },
    "papermill": {
     "duration": 1.013724,
     "end_time": "2023-03-07T07:57:24.238375",
     "exception": false,
     "start_time": "2023-03-07T07:57:23.224651",
     "status": "completed"
    },
    "tags": []
   },
   "outputs": [
    {
     "name": "stderr",
     "output_type": "stream",
     "text": [
      "\n",
      "Attaching package: ‘gridExtra’\n",
      "\n",
      "\n",
      "The following object is masked from ‘package:dplyr’:\n",
      "\n",
      "    combine\n",
      "\n",
      "\n"
     ]
    },
    {
     "data": {
      "image/png": "[encoded data removed]"
     },
     "metadata": {
      "image/png": {
       "height": 420,
       "width": 420
      }
     },
     "output_type": "display_data"
    }
   ],
   "source": [
    "library(gridExtra)\n",
    "grid.arrange(fig2, fig3, fig4)"
   ]
  },
  {
   "cell_type": "markdown",
   "id": "28f73b1f",
   "metadata": {
    "papermill": {
     "duration": 0.012373,
     "end_time": "2023-03-07T07:57:24.265133",
     "exception": false,
     "start_time": "2023-03-07T07:57:24.252760",
     "status": "completed"
    },
    "tags": []
   },
   "source": [
    "Following observations can be made from the analysis done so far: \n",
    "\n",
    "**1. There are no underweight person in the population studied, which needs to be addressed to make analysis inclusive.**\n",
    "\n",
    "**2. Although overweight persons have average steps walked less than normal wight range persons, the amount of calories they burnt are much larger than normal weight range persons.**\n",
    "\n",
    "**3. The people who are in normal weight range have the best average sleep time i.e. 7 $\\frac{1}{2}$ hours, which can be a good indicator of their ability to lead a content and peaceful life**\n"
   ]
  },
  {
   "cell_type": "markdown",
   "id": "6624bf09",
   "metadata": {
    "papermill": {
     "duration": 0.015654,
     "end_time": "2023-03-07T07:57:24.295010",
     "exception": false,
     "start_time": "2023-03-07T07:57:24.279356",
     "status": "completed"
    },
    "tags": []
   },
   "source": [
    "### Recommendations to the team \n",
    "\n",
    "**1. It is suggested to have reminders/alarms integrated in the devices to remind people of their daily target for calories burnt.**\n",
    "\n",
    "**2. The advertising can also be focussed on establishing relation between on how factors such as good exercise regime, maintaining a good BMI are inherent to the sleep quality. Which in turn, affects the brain performance, emotional status and health of a person.**\n",
    "\n",
    "\n"
   ]
  }
 ],
 "metadata": {
  "kernelspec": {
   "display_name": "R",
   "language": "R",
   "name": "ir"
  },
  "language_info": {
   "codemirror_mode": "r",
   "file_extension": ".r",
   "mimetype": "text/x-r-source",
   "name": "R",
   "pygments_lexer": "r",
   "version": "4.0.5"
  },
  "papermill": {
   "default_parameters": {},
   "duration": 9.320826,
   "end_time": "2023-03-07T07:57:24.427525",
   "environment_variables": {},
   "exception": null,
   "input_path": "__notebook__.ipynb",
   "output_path": "__notebook__.ipynb",
   "parameters": {},
   "start_time": "2023-03-07T07:57:15.106699",
   "version": "2.4.0"
  }
 },
 "nbformat": 4,
 "nbformat_minor": 5
}
